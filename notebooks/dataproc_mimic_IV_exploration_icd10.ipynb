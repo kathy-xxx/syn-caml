{
 "cells": [
  {
   "cell_type": "code",
   "execution_count": 3,
   "metadata": {
    "collapsed": true
   },
   "outputs": [],
   "source": [
    "import sys\n",
    "sys.path.append('../')\n",
    "import datasets\n",
    "import log_reg\n",
    "from dataproc import extract_wvs\n",
    "from dataproc import get_discharge_summaries\n",
    "from dataproc import concat_and_split\n",
    "from dataproc import build_vocab\n",
    "from dataproc import vocab_index_descriptions\n",
    "from dataproc import word_embeddings\n",
    "\n",
    "\n",
    "import numpy as np\n",
    "import pandas as pd\n",
    "\n",
    "from collections import Counter, defaultdict\n",
    "import csv\n",
    "import math\n",
    "import operator"
   ]
  },
  {
   "cell_type": "code",
   "execution_count": 5,
   "metadata": {},
   "outputs": [],
   "source": [
    "MIMIC_4_DIR='../../data/mimic4/mimic-iv-3.1'\n",
    "MIMIC_4_SAVE_DIR='../mimicdata/mimic4_icd10'"
   ]
  },
  {
   "cell_type": "markdown",
   "metadata": {},
   "source": [
    "Let's do some data processing in a much better way, with a notebook.\n",
    "\n",
    "First, let's define some stuff."
   ]
  },
  {
   "cell_type": "code",
   "execution_count": 3,
   "metadata": {
    "collapsed": true
   },
   "outputs": [],
   "source": [
    "Y = 'full' #use all available labels in the dataset for prediction\n",
    "notes_file = f'{MIMIC_4_DIR}/note/discharge.csv' # raw note events downloaded from MIMIC-III\n",
    "vocab_size = 'full' #don't limit the vocab size to a specific number\n",
    "vocab_min = 3 #discard tokens appearing in fewer than this many documents"
   ]
  },
  {
   "cell_type": "markdown",
   "metadata": {},
   "source": [
    "# Data processing"
   ]
  },
  {
   "cell_type": "markdown",
   "metadata": {},
   "source": [
    "## Combine diagnosis and procedure codes and reformat them"
   ]
  },
  {
   "cell_type": "markdown",
   "metadata": {},
   "source": [
    "The codes in MIMIC-III are given in separate files for procedures and diagnoses, and the codes are given without periods, which might lead to collisions if we naively combine them. So we have to add the periods back in the right place."
   ]
  },
  {
   "cell_type": "code",
   "execution_count": 4,
   "metadata": {
    "collapsed": true
   },
   "outputs": [],
   "source": [
    "dfproc = pd.read_csv(f'{MIMIC_4_DIR}/hosp/procedures_icd.csv',\n",
    "                     dtype={\"icd_code\": str})\n",
    "dfdiag = pd.read_csv(f'{MIMIC_4_DIR}/hosp/diagnoses_icd.csv',\n",
    "                     dtype={\"icd_code\": str})"
   ]
  },
  {
   "cell_type": "code",
   "execution_count": 5,
   "metadata": {},
   "outputs": [
    {
     "name": "stdout",
     "output_type": "stream",
     "text": [
      "469209\n",
      "390446\n",
      "859655\n"
     ]
    }
   ],
   "source": [
    "print(len(dfproc[dfproc['icd_version']==9]))\n",
    "print(len(dfproc[dfproc['icd_version']==10]))\n",
    "print(len(dfproc['icd_version']))"
   ]
  },
  {
   "attachments": {},
   "cell_type": "markdown",
   "metadata": {},
   "source": [
    "There are both icd9 and icd10 code version in mimic IV, so limit to only icd 10 code\n"
   ]
  },
  {
   "cell_type": "code",
   "execution_count": 6,
   "metadata": {},
   "outputs": [],
   "source": [
    "dfproc10=dfproc[dfproc['icd_version']==10]\n",
    "dfdiag10=dfdiag[dfdiag['icd_version']==10]"
   ]
  },
  {
   "cell_type": "code",
   "execution_count": 7,
   "metadata": {},
   "outputs": [
    {
     "data": {
      "text/html": [
       "<div>\n",
       "<style scoped>\n",
       "    .dataframe tbody tr th:only-of-type {\n",
       "        vertical-align: middle;\n",
       "    }\n",
       "\n",
       "    .dataframe tbody tr th {\n",
       "        vertical-align: top;\n",
       "    }\n",
       "\n",
       "    .dataframe thead th {\n",
       "        text-align: right;\n",
       "    }\n",
       "</style>\n",
       "<table border=\"1\" class=\"dataframe\">\n",
       "  <thead>\n",
       "    <tr style=\"text-align: right;\">\n",
       "      <th></th>\n",
       "      <th>subject_id</th>\n",
       "      <th>hadm_id</th>\n",
       "      <th>seq_num</th>\n",
       "      <th>chartdate</th>\n",
       "      <th>icd_code</th>\n",
       "      <th>icd_version</th>\n",
       "    </tr>\n",
       "  </thead>\n",
       "  <tbody>\n",
       "    <tr>\n",
       "      <th>4</th>\n",
       "      <td>10000117</td>\n",
       "      <td>27988844</td>\n",
       "      <td>1</td>\n",
       "      <td>2183-09-19</td>\n",
       "      <td>0QS734Z</td>\n",
       "      <td>10</td>\n",
       "    </tr>\n",
       "    <tr>\n",
       "      <th>24</th>\n",
       "      <td>10000947</td>\n",
       "      <td>27880650</td>\n",
       "      <td>1</td>\n",
       "      <td>2121-05-10</td>\n",
       "      <td>0FB23ZX</td>\n",
       "      <td>10</td>\n",
       "    </tr>\n",
       "    <tr>\n",
       "      <th>47</th>\n",
       "      <td>10001401</td>\n",
       "      <td>20144849</td>\n",
       "      <td>1</td>\n",
       "      <td>2136-11-22</td>\n",
       "      <td>0T9330Z</td>\n",
       "      <td>10</td>\n",
       "    </tr>\n",
       "    <tr>\n",
       "      <th>48</th>\n",
       "      <td>10001401</td>\n",
       "      <td>20144849</td>\n",
       "      <td>2</td>\n",
       "      <td>2136-11-22</td>\n",
       "      <td>0T763DZ</td>\n",
       "      <td>10</td>\n",
       "    </tr>\n",
       "    <tr>\n",
       "      <th>49</th>\n",
       "      <td>10001401</td>\n",
       "      <td>21544441</td>\n",
       "      <td>1</td>\n",
       "      <td>2131-06-04</td>\n",
       "      <td>0TTB4ZZ</td>\n",
       "      <td>10</td>\n",
       "    </tr>\n",
       "  </tbody>\n",
       "</table>\n",
       "</div>"
      ],
      "text/plain": [
       "    subject_id   hadm_id  seq_num   chartdate icd_code  icd_version\n",
       "4     10000117  27988844        1  2183-09-19  0QS734Z           10\n",
       "24    10000947  27880650        1  2121-05-10  0FB23ZX           10\n",
       "47    10001401  20144849        1  2136-11-22  0T9330Z           10\n",
       "48    10001401  20144849        2  2136-11-22  0T763DZ           10\n",
       "49    10001401  21544441        1  2131-06-04  0TTB4ZZ           10"
      ]
     },
     "execution_count": 7,
     "metadata": {},
     "output_type": "execute_result"
    }
   ],
   "source": [
    "n=5\n",
    "dfproc10.head(n)"
   ]
  },
  {
   "cell_type": "code",
   "execution_count": 8,
   "metadata": {},
   "outputs": [
    {
     "data": {
      "text/html": [
       "<div>\n",
       "<style scoped>\n",
       "    .dataframe tbody tr th:only-of-type {\n",
       "        vertical-align: middle;\n",
       "    }\n",
       "\n",
       "    .dataframe tbody tr th {\n",
       "        vertical-align: top;\n",
       "    }\n",
       "\n",
       "    .dataframe thead th {\n",
       "        text-align: right;\n",
       "    }\n",
       "</style>\n",
       "<table border=\"1\" class=\"dataframe\">\n",
       "  <thead>\n",
       "    <tr style=\"text-align: right;\">\n",
       "      <th></th>\n",
       "      <th>subject_id</th>\n",
       "      <th>hadm_id</th>\n",
       "      <th>seq_num</th>\n",
       "      <th>icd_code</th>\n",
       "      <th>icd_version</th>\n",
       "    </tr>\n",
       "  </thead>\n",
       "  <tbody>\n",
       "    <tr>\n",
       "      <th>40</th>\n",
       "      <td>10000084</td>\n",
       "      <td>23052089</td>\n",
       "      <td>1</td>\n",
       "      <td>G3183</td>\n",
       "      <td>10</td>\n",
       "    </tr>\n",
       "    <tr>\n",
       "      <th>41</th>\n",
       "      <td>10000084</td>\n",
       "      <td>23052089</td>\n",
       "      <td>2</td>\n",
       "      <td>F0280</td>\n",
       "      <td>10</td>\n",
       "    </tr>\n",
       "    <tr>\n",
       "      <th>42</th>\n",
       "      <td>10000084</td>\n",
       "      <td>23052089</td>\n",
       "      <td>3</td>\n",
       "      <td>R441</td>\n",
       "      <td>10</td>\n",
       "    </tr>\n",
       "    <tr>\n",
       "      <th>43</th>\n",
       "      <td>10000084</td>\n",
       "      <td>23052089</td>\n",
       "      <td>4</td>\n",
       "      <td>R296</td>\n",
       "      <td>10</td>\n",
       "    </tr>\n",
       "    <tr>\n",
       "      <th>44</th>\n",
       "      <td>10000084</td>\n",
       "      <td>23052089</td>\n",
       "      <td>5</td>\n",
       "      <td>E785</td>\n",
       "      <td>10</td>\n",
       "    </tr>\n",
       "  </tbody>\n",
       "</table>\n",
       "</div>"
      ],
      "text/plain": [
       "    subject_id   hadm_id  seq_num icd_code  icd_version\n",
       "40    10000084  23052089        1    G3183           10\n",
       "41    10000084  23052089        2    F0280           10\n",
       "42    10000084  23052089        3     R441           10\n",
       "43    10000084  23052089        4     R296           10\n",
       "44    10000084  23052089        5     E785           10"
      ]
     },
     "execution_count": 8,
     "metadata": {},
     "output_type": "execute_result"
    }
   ],
   "source": [
    "n=5\n",
    "dfdiag10.head(n)"
   ]
  },
  {
   "cell_type": "code",
   "execution_count": 9,
   "metadata": {
    "collapsed": true
   },
   "outputs": [
    {
     "name": "stderr",
     "output_type": "stream",
     "text": [
      "/var/folders/4d/wg8tvf2x5pg4jwptyghyn9280000gn/T/ipykernel_98305/2271351022.py:1: SettingWithCopyWarning: \n",
      "A value is trying to be set on a copy of a slice from a DataFrame.\n",
      "Try using .loc[row_indexer,col_indexer] = value instead\n",
      "\n",
      "See the caveats in the documentation: https://pandas.pydata.org/pandas-docs/stable/user_guide/indexing.html#returning-a-view-versus-a-copy\n",
      "  dfdiag10['absolute_code'] = dfdiag10['icd_code']\n",
      "/var/folders/4d/wg8tvf2x5pg4jwptyghyn9280000gn/T/ipykernel_98305/2271351022.py:2: SettingWithCopyWarning: \n",
      "A value is trying to be set on a copy of a slice from a DataFrame.\n",
      "Try using .loc[row_indexer,col_indexer] = value instead\n",
      "\n",
      "See the caveats in the documentation: https://pandas.pydata.org/pandas-docs/stable/user_guide/indexing.html#returning-a-view-versus-a-copy\n",
      "  dfproc10['absolute_code'] = dfproc10['icd_code']\n"
     ]
    }
   ],
   "source": [
    "dfdiag10['absolute_code'] = dfdiag10['icd_code']\n",
    "dfproc10['absolute_code'] = dfproc10['icd_code']"
   ]
  },
  {
   "cell_type": "code",
   "execution_count": 10,
   "metadata": {},
   "outputs": [
    {
     "data": {
      "text/html": [
       "<div>\n",
       "<style scoped>\n",
       "    .dataframe tbody tr th:only-of-type {\n",
       "        vertical-align: middle;\n",
       "    }\n",
       "\n",
       "    .dataframe tbody tr th {\n",
       "        vertical-align: top;\n",
       "    }\n",
       "\n",
       "    .dataframe thead th {\n",
       "        text-align: right;\n",
       "    }\n",
       "</style>\n",
       "<table border=\"1\" class=\"dataframe\">\n",
       "  <thead>\n",
       "    <tr style=\"text-align: right;\">\n",
       "      <th></th>\n",
       "      <th>subject_id</th>\n",
       "      <th>hadm_id</th>\n",
       "      <th>seq_num</th>\n",
       "      <th>icd_code</th>\n",
       "      <th>icd_version</th>\n",
       "      <th>absolute_code</th>\n",
       "    </tr>\n",
       "  </thead>\n",
       "  <tbody>\n",
       "    <tr>\n",
       "      <th>40</th>\n",
       "      <td>10000084</td>\n",
       "      <td>23052089</td>\n",
       "      <td>1</td>\n",
       "      <td>G3183</td>\n",
       "      <td>10</td>\n",
       "      <td>G3183</td>\n",
       "    </tr>\n",
       "    <tr>\n",
       "      <th>41</th>\n",
       "      <td>10000084</td>\n",
       "      <td>23052089</td>\n",
       "      <td>2</td>\n",
       "      <td>F0280</td>\n",
       "      <td>10</td>\n",
       "      <td>F0280</td>\n",
       "    </tr>\n",
       "    <tr>\n",
       "      <th>42</th>\n",
       "      <td>10000084</td>\n",
       "      <td>23052089</td>\n",
       "      <td>3</td>\n",
       "      <td>R441</td>\n",
       "      <td>10</td>\n",
       "      <td>R441</td>\n",
       "    </tr>\n",
       "    <tr>\n",
       "      <th>43</th>\n",
       "      <td>10000084</td>\n",
       "      <td>23052089</td>\n",
       "      <td>4</td>\n",
       "      <td>R296</td>\n",
       "      <td>10</td>\n",
       "      <td>R296</td>\n",
       "    </tr>\n",
       "    <tr>\n",
       "      <th>44</th>\n",
       "      <td>10000084</td>\n",
       "      <td>23052089</td>\n",
       "      <td>5</td>\n",
       "      <td>E785</td>\n",
       "      <td>10</td>\n",
       "      <td>E785</td>\n",
       "    </tr>\n",
       "  </tbody>\n",
       "</table>\n",
       "</div>"
      ],
      "text/plain": [
       "    subject_id   hadm_id  seq_num icd_code  icd_version absolute_code\n",
       "40    10000084  23052089        1    G3183           10         G3183\n",
       "41    10000084  23052089        2    F0280           10         F0280\n",
       "42    10000084  23052089        3     R441           10          R441\n",
       "43    10000084  23052089        4     R296           10          R296\n",
       "44    10000084  23052089        5     E785           10          E785"
      ]
     },
     "execution_count": 10,
     "metadata": {},
     "output_type": "execute_result"
    }
   ],
   "source": [
    "n=5\n",
    "dfdiag10.head(n)"
   ]
  },
  {
   "cell_type": "code",
   "execution_count": 11,
   "metadata": {},
   "outputs": [
    {
     "data": {
      "text/html": [
       "<div>\n",
       "<style scoped>\n",
       "    .dataframe tbody tr th:only-of-type {\n",
       "        vertical-align: middle;\n",
       "    }\n",
       "\n",
       "    .dataframe tbody tr th {\n",
       "        vertical-align: top;\n",
       "    }\n",
       "\n",
       "    .dataframe thead th {\n",
       "        text-align: right;\n",
       "    }\n",
       "</style>\n",
       "<table border=\"1\" class=\"dataframe\">\n",
       "  <thead>\n",
       "    <tr style=\"text-align: right;\">\n",
       "      <th></th>\n",
       "      <th>subject_id</th>\n",
       "      <th>hadm_id</th>\n",
       "      <th>seq_num</th>\n",
       "      <th>chartdate</th>\n",
       "      <th>icd_code</th>\n",
       "      <th>icd_version</th>\n",
       "      <th>absolute_code</th>\n",
       "    </tr>\n",
       "  </thead>\n",
       "  <tbody>\n",
       "    <tr>\n",
       "      <th>4</th>\n",
       "      <td>10000117</td>\n",
       "      <td>27988844</td>\n",
       "      <td>1</td>\n",
       "      <td>2183-09-19</td>\n",
       "      <td>0QS734Z</td>\n",
       "      <td>10</td>\n",
       "      <td>0QS734Z</td>\n",
       "    </tr>\n",
       "    <tr>\n",
       "      <th>24</th>\n",
       "      <td>10000947</td>\n",
       "      <td>27880650</td>\n",
       "      <td>1</td>\n",
       "      <td>2121-05-10</td>\n",
       "      <td>0FB23ZX</td>\n",
       "      <td>10</td>\n",
       "      <td>0FB23ZX</td>\n",
       "    </tr>\n",
       "    <tr>\n",
       "      <th>47</th>\n",
       "      <td>10001401</td>\n",
       "      <td>20144849</td>\n",
       "      <td>1</td>\n",
       "      <td>2136-11-22</td>\n",
       "      <td>0T9330Z</td>\n",
       "      <td>10</td>\n",
       "      <td>0T9330Z</td>\n",
       "    </tr>\n",
       "    <tr>\n",
       "      <th>48</th>\n",
       "      <td>10001401</td>\n",
       "      <td>20144849</td>\n",
       "      <td>2</td>\n",
       "      <td>2136-11-22</td>\n",
       "      <td>0T763DZ</td>\n",
       "      <td>10</td>\n",
       "      <td>0T763DZ</td>\n",
       "    </tr>\n",
       "    <tr>\n",
       "      <th>49</th>\n",
       "      <td>10001401</td>\n",
       "      <td>21544441</td>\n",
       "      <td>1</td>\n",
       "      <td>2131-06-04</td>\n",
       "      <td>0TTB4ZZ</td>\n",
       "      <td>10</td>\n",
       "      <td>0TTB4ZZ</td>\n",
       "    </tr>\n",
       "  </tbody>\n",
       "</table>\n",
       "</div>"
      ],
      "text/plain": [
       "    subject_id   hadm_id  seq_num   chartdate icd_code  icd_version  \\\n",
       "4     10000117  27988844        1  2183-09-19  0QS734Z           10   \n",
       "24    10000947  27880650        1  2121-05-10  0FB23ZX           10   \n",
       "47    10001401  20144849        1  2136-11-22  0T9330Z           10   \n",
       "48    10001401  20144849        2  2136-11-22  0T763DZ           10   \n",
       "49    10001401  21544441        1  2131-06-04  0TTB4ZZ           10   \n",
       "\n",
       "   absolute_code  \n",
       "4        0QS734Z  \n",
       "24       0FB23ZX  \n",
       "47       0T9330Z  \n",
       "48       0T763DZ  \n",
       "49       0TTB4ZZ  "
      ]
     },
     "execution_count": 11,
     "metadata": {},
     "output_type": "execute_result"
    }
   ],
   "source": [
    "n=5\n",
    "dfproc10.head(n)"
   ]
  },
  {
   "cell_type": "code",
   "execution_count": 12,
   "metadata": {
    "collapsed": true
   },
   "outputs": [],
   "source": [
    "dfcodes10 = pd.concat([dfdiag10, dfproc10])"
   ]
  },
  {
   "cell_type": "code",
   "execution_count": 13,
   "metadata": {},
   "outputs": [
    {
     "data": {
      "text/html": [
       "<div>\n",
       "<style scoped>\n",
       "    .dataframe tbody tr th:only-of-type {\n",
       "        vertical-align: middle;\n",
       "    }\n",
       "\n",
       "    .dataframe tbody tr th {\n",
       "        vertical-align: top;\n",
       "    }\n",
       "\n",
       "    .dataframe thead th {\n",
       "        text-align: right;\n",
       "    }\n",
       "</style>\n",
       "<table border=\"1\" class=\"dataframe\">\n",
       "  <thead>\n",
       "    <tr style=\"text-align: right;\">\n",
       "      <th></th>\n",
       "      <th>subject_id</th>\n",
       "      <th>hadm_id</th>\n",
       "      <th>seq_num</th>\n",
       "      <th>icd_code</th>\n",
       "      <th>icd_version</th>\n",
       "      <th>absolute_code</th>\n",
       "      <th>chartdate</th>\n",
       "    </tr>\n",
       "  </thead>\n",
       "  <tbody>\n",
       "    <tr>\n",
       "      <th>40</th>\n",
       "      <td>10000084</td>\n",
       "      <td>23052089</td>\n",
       "      <td>1</td>\n",
       "      <td>G3183</td>\n",
       "      <td>10</td>\n",
       "      <td>G3183</td>\n",
       "      <td>NaN</td>\n",
       "    </tr>\n",
       "    <tr>\n",
       "      <th>41</th>\n",
       "      <td>10000084</td>\n",
       "      <td>23052089</td>\n",
       "      <td>2</td>\n",
       "      <td>F0280</td>\n",
       "      <td>10</td>\n",
       "      <td>F0280</td>\n",
       "      <td>NaN</td>\n",
       "    </tr>\n",
       "    <tr>\n",
       "      <th>42</th>\n",
       "      <td>10000084</td>\n",
       "      <td>23052089</td>\n",
       "      <td>3</td>\n",
       "      <td>R441</td>\n",
       "      <td>10</td>\n",
       "      <td>R441</td>\n",
       "      <td>NaN</td>\n",
       "    </tr>\n",
       "    <tr>\n",
       "      <th>43</th>\n",
       "      <td>10000084</td>\n",
       "      <td>23052089</td>\n",
       "      <td>4</td>\n",
       "      <td>R296</td>\n",
       "      <td>10</td>\n",
       "      <td>R296</td>\n",
       "      <td>NaN</td>\n",
       "    </tr>\n",
       "    <tr>\n",
       "      <th>44</th>\n",
       "      <td>10000084</td>\n",
       "      <td>23052089</td>\n",
       "      <td>5</td>\n",
       "      <td>E785</td>\n",
       "      <td>10</td>\n",
       "      <td>E785</td>\n",
       "      <td>NaN</td>\n",
       "    </tr>\n",
       "  </tbody>\n",
       "</table>\n",
       "</div>"
      ],
      "text/plain": [
       "    subject_id   hadm_id  seq_num icd_code  icd_version absolute_code  \\\n",
       "40    10000084  23052089        1    G3183           10         G3183   \n",
       "41    10000084  23052089        2    F0280           10         F0280   \n",
       "42    10000084  23052089        3     R441           10          R441   \n",
       "43    10000084  23052089        4     R296           10          R296   \n",
       "44    10000084  23052089        5     E785           10          E785   \n",
       "\n",
       "   chartdate  \n",
       "40       NaN  \n",
       "41       NaN  \n",
       "42       NaN  \n",
       "43       NaN  \n",
       "44       NaN  "
      ]
     },
     "execution_count": 13,
     "metadata": {},
     "output_type": "execute_result"
    }
   ],
   "source": [
    "n=5\n",
    "dfcodes10.head(n)"
   ]
  },
  {
   "cell_type": "code",
   "execution_count": 14,
   "metadata": {
    "collapsed": true
   },
   "outputs": [],
   "source": [
    "dfcodes10.to_csv(f'{MIMIC_4_SAVE_DIR}/ALL_CODES.csv', index=False,\n",
    "               columns=['subject_id', 'hadm_id', 'seq_num', 'absolute_code'],\n",
    "               header=['subject_id', 'hadm_id', 'seq_num', 'ICD10_CODE'])"
   ]
  },
  {
   "cell_type": "markdown",
   "metadata": {},
   "source": [
    "## How many codes are there?"
   ]
  },
  {
   "cell_type": "code",
   "execution_count": 15,
   "metadata": {},
   "outputs": [
    {
     "data": {
      "text/plain": [
       "31794"
      ]
     },
     "execution_count": 15,
     "metadata": {},
     "output_type": "execute_result"
    }
   ],
   "source": [
    "#In the full dataset (not just discharge summaries)\n",
    "df = pd.read_csv('%s/ALL_CODES.csv' % MIMIC_4_SAVE_DIR, dtype={\"ICD10_CODE\": str})\n",
    "len(df['ICD10_CODE'].unique())"
   ]
  },
  {
   "cell_type": "code",
   "execution_count": 16,
   "metadata": {},
   "outputs": [
    {
     "data": {
      "text/html": [
       "<div>\n",
       "<style scoped>\n",
       "    .dataframe tbody tr th:only-of-type {\n",
       "        vertical-align: middle;\n",
       "    }\n",
       "\n",
       "    .dataframe tbody tr th {\n",
       "        vertical-align: top;\n",
       "    }\n",
       "\n",
       "    .dataframe thead th {\n",
       "        text-align: right;\n",
       "    }\n",
       "</style>\n",
       "<table border=\"1\" class=\"dataframe\">\n",
       "  <thead>\n",
       "    <tr style=\"text-align: right;\">\n",
       "      <th></th>\n",
       "      <th>subject_id</th>\n",
       "      <th>hadm_id</th>\n",
       "      <th>seq_num</th>\n",
       "      <th>ICD10_CODE</th>\n",
       "    </tr>\n",
       "  </thead>\n",
       "  <tbody>\n",
       "    <tr>\n",
       "      <th>0</th>\n",
       "      <td>10000084</td>\n",
       "      <td>23052089</td>\n",
       "      <td>1</td>\n",
       "      <td>G3183</td>\n",
       "    </tr>\n",
       "    <tr>\n",
       "      <th>1</th>\n",
       "      <td>10000084</td>\n",
       "      <td>23052089</td>\n",
       "      <td>2</td>\n",
       "      <td>F0280</td>\n",
       "    </tr>\n",
       "    <tr>\n",
       "      <th>2</th>\n",
       "      <td>10000084</td>\n",
       "      <td>23052089</td>\n",
       "      <td>3</td>\n",
       "      <td>R441</td>\n",
       "    </tr>\n",
       "    <tr>\n",
       "      <th>3</th>\n",
       "      <td>10000084</td>\n",
       "      <td>23052089</td>\n",
       "      <td>4</td>\n",
       "      <td>R296</td>\n",
       "    </tr>\n",
       "    <tr>\n",
       "      <th>4</th>\n",
       "      <td>10000084</td>\n",
       "      <td>23052089</td>\n",
       "      <td>5</td>\n",
       "      <td>E785</td>\n",
       "    </tr>\n",
       "  </tbody>\n",
       "</table>\n",
       "</div>"
      ],
      "text/plain": [
       "   subject_id   hadm_id  seq_num ICD10_CODE\n",
       "0    10000084  23052089        1      G3183\n",
       "1    10000084  23052089        2      F0280\n",
       "2    10000084  23052089        3       R441\n",
       "3    10000084  23052089        4       R296\n",
       "4    10000084  23052089        5       E785"
      ]
     },
     "execution_count": 16,
     "metadata": {},
     "output_type": "execute_result"
    }
   ],
   "source": [
    "n=5\n",
    "df.head(n)"
   ]
  },
  {
   "cell_type": "markdown",
   "metadata": {},
   "source": [
    "## Tokenize and preprocess raw text"
   ]
  },
  {
   "cell_type": "markdown",
   "metadata": {},
   "source": [
    "Preprocessing time!\n",
    "\n",
    "This will:\n",
    "- Select only discharge summaries and their addenda\n",
    "- remove punctuation and numeric-only tokens, removing 500 but keeping 250mg\n",
    "- lowercase all tokens"
   ]
  },
  {
   "cell_type": "code",
   "execution_count": 17,
   "metadata": {},
   "outputs": [],
   "source": [
    "\"\"\"\n",
    "    Reads NOTEEVENTS file, finds the discharge summaries, preprocesses them and writes out the filtered dataset.\n",
    "\"\"\"\n",
    "import csv\n",
    "\n",
    "from nltk.tokenize import RegexpTokenizer\n",
    "\n",
    "from tqdm import tqdm\n",
    "\n",
    "#retain only alphanumeric\n",
    "tokenizer = RegexpTokenizer(r'\\w+')\n",
    "\n",
    "def write_discharge_summaries(out_file, data_dir):\n",
    "    # notes_file = '%s/NOTEEVENTS.csv' % (data_dir)\n",
    "    notes_file = f'{data_dir}/note/discharge.csv'\n",
    "    print(\"processing notes file\")\n",
    "    with open(notes_file, 'r', encoding='utf-8') as csvfile:\n",
    "        with open(out_file, 'w', encoding='utf-8') as outfile:\n",
    "            print(\"writing to %s\" % (out_file))\n",
    "            outfile.write(','.join(['subject_id', 'hadm_id', 'charttime', 'text']) + '\\n')\n",
    "            notereader = csv.reader(csvfile)\n",
    "            #header\n",
    "            next(notereader)\n",
    "            i = 0\n",
    "            for line in tqdm(notereader):\n",
    "                subj = int(line[1])\n",
    "                category = line[3]\n",
    "                if category == \"DS\":\n",
    "                    note = line[7]\n",
    "                    #tokenize, lowercase and remove numerics\n",
    "                    tokens = [t.lower() for t in tokenizer.tokenize(note) if not t.isnumeric()]\n",
    "                    text = '\"' + ' '.join(tokens) + '\"'\n",
    "                    outfile.write(','.join([line[1], line[2], line[5], text]) + '\\n')\n",
    "                i += 1\n",
    "    return out_file"
   ]
  },
  {
   "cell_type": "code",
   "execution_count": 18,
   "metadata": {},
   "outputs": [
    {
     "name": "stdout",
     "output_type": "stream",
     "text": [
      "processing notes file\n",
      "writing to ../mimicdata/mimic4_icd10/disch_10_full.csv\n"
     ]
    },
    {
     "name": "stderr",
     "output_type": "stream",
     "text": [
      "331793it [02:32, 2181.65it/s]\n"
     ]
    }
   ],
   "source": [
    "#This reads all notes, selects only the discharge summaries, and tokenizes them, returning the output filename\n",
    "disch_full_file = write_discharge_summaries(out_file=f\"{MIMIC_4_SAVE_DIR}/disch_10_full.csv\",data_dir= MIMIC_4_DIR)"
   ]
  },
  {
   "cell_type": "markdown",
   "metadata": {},
   "source": [
    "Let's read this in and see what kind of data we're working with"
   ]
  },
  {
   "cell_type": "code",
   "execution_count": 19,
   "metadata": {
    "collapsed": true
   },
   "outputs": [],
   "source": [
    "df = pd.read_csv(f\"{MIMIC_4_SAVE_DIR}/disch_10_full.csv\", encoding='utf-8', engine='python')"
   ]
  },
  {
   "cell_type": "code",
   "execution_count": 20,
   "metadata": {},
   "outputs": [
    {
     "data": {
      "text/html": [
       "<div>\n",
       "<style scoped>\n",
       "    .dataframe tbody tr th:only-of-type {\n",
       "        vertical-align: middle;\n",
       "    }\n",
       "\n",
       "    .dataframe tbody tr th {\n",
       "        vertical-align: top;\n",
       "    }\n",
       "\n",
       "    .dataframe thead th {\n",
       "        text-align: right;\n",
       "    }\n",
       "</style>\n",
       "<table border=\"1\" class=\"dataframe\">\n",
       "  <thead>\n",
       "    <tr style=\"text-align: right;\">\n",
       "      <th></th>\n",
       "      <th>subject_id</th>\n",
       "      <th>hadm_id</th>\n",
       "      <th>charttime</th>\n",
       "      <th>text</th>\n",
       "    </tr>\n",
       "  </thead>\n",
       "  <tbody>\n",
       "    <tr>\n",
       "      <th>0</th>\n",
       "      <td>10000032</td>\n",
       "      <td>22595853</td>\n",
       "      <td>2180-05-07 00:00:00</td>\n",
       "      <td>name ___ unit no ___ admission date ___ discha...</td>\n",
       "    </tr>\n",
       "    <tr>\n",
       "      <th>1</th>\n",
       "      <td>10000032</td>\n",
       "      <td>22841357</td>\n",
       "      <td>2180-06-27 00:00:00</td>\n",
       "      <td>name ___ unit no ___ admission date ___ discha...</td>\n",
       "    </tr>\n",
       "    <tr>\n",
       "      <th>2</th>\n",
       "      <td>10000032</td>\n",
       "      <td>29079034</td>\n",
       "      <td>2180-07-25 00:00:00</td>\n",
       "      <td>name ___ unit no ___ admission date ___ discha...</td>\n",
       "    </tr>\n",
       "    <tr>\n",
       "      <th>3</th>\n",
       "      <td>10000032</td>\n",
       "      <td>25742920</td>\n",
       "      <td>2180-08-07 00:00:00</td>\n",
       "      <td>name ___ unit no ___ admission date ___ discha...</td>\n",
       "    </tr>\n",
       "    <tr>\n",
       "      <th>4</th>\n",
       "      <td>10000084</td>\n",
       "      <td>23052089</td>\n",
       "      <td>2160-11-25 00:00:00</td>\n",
       "      <td>name ___ unit no ___ admission date ___ discha...</td>\n",
       "    </tr>\n",
       "  </tbody>\n",
       "</table>\n",
       "</div>"
      ],
      "text/plain": [
       "   subject_id   hadm_id            charttime  \\\n",
       "0    10000032  22595853  2180-05-07 00:00:00   \n",
       "1    10000032  22841357  2180-06-27 00:00:00   \n",
       "2    10000032  29079034  2180-07-25 00:00:00   \n",
       "3    10000032  25742920  2180-08-07 00:00:00   \n",
       "4    10000084  23052089  2160-11-25 00:00:00   \n",
       "\n",
       "                                                text  \n",
       "0  name ___ unit no ___ admission date ___ discha...  \n",
       "1  name ___ unit no ___ admission date ___ discha...  \n",
       "2  name ___ unit no ___ admission date ___ discha...  \n",
       "3  name ___ unit no ___ admission date ___ discha...  \n",
       "4  name ___ unit no ___ admission date ___ discha...  "
      ]
     },
     "execution_count": 20,
     "metadata": {},
     "output_type": "execute_result"
    }
   ],
   "source": [
    "n=5\n",
    "df.head(n)"
   ]
  },
  {
   "cell_type": "code",
   "execution_count": 21,
   "metadata": {},
   "outputs": [
    {
     "data": {
      "text/plain": [
       "331793"
      ]
     },
     "execution_count": 21,
     "metadata": {},
     "output_type": "execute_result"
    }
   ],
   "source": [
    "#How many admissions?\n",
    "len(df['hadm_id'].unique())"
   ]
  },
  {
   "cell_type": "code",
   "execution_count": 22,
   "metadata": {},
   "outputs": [
    {
     "name": "stdout",
     "output_type": "stream",
     "text": [
      "145914\n",
      "331793\n"
     ]
    }
   ],
   "source": [
    "print(len(df['subject_id'].unique()))\n",
    "print(len(df))"
   ]
  },
  {
   "cell_type": "code",
   "execution_count": 23,
   "metadata": {
    "collapsed": true
   },
   "outputs": [],
   "source": [
    "#Tokens and types\n",
    "types = set()\n",
    "num_tok = 0\n",
    "for row in df.itertuples():\n",
    "    for w in row[4].split():\n",
    "        types.add(w)\n",
    "        num_tok += 1"
   ]
  },
  {
   "cell_type": "code",
   "execution_count": 24,
   "metadata": {},
   "outputs": [
    {
     "name": "stdout",
     "output_type": "stream",
     "text": [
      "Num types 370511\n",
      "Num tokens 508950426\n"
     ]
    }
   ],
   "source": [
    "print(\"Num types\", len(types))\n",
    "print(\"Num tokens\", str(num_tok))"
   ]
  },
  {
   "cell_type": "code",
   "execution_count": 25,
   "metadata": {
    "collapsed": true
   },
   "outputs": [],
   "source": [
    "#Let's sort by SUBJECT_ID and HADM_ID to make a correspondence with the MIMIC-3 label file\n",
    "df = df.sort_values(['subject_id', 'hadm_id'])"
   ]
  },
  {
   "cell_type": "code",
   "execution_count": 26,
   "metadata": {},
   "outputs": [],
   "source": [
    "#Sort the label file by the same\n",
    "dfl = pd.read_csv(f'{MIMIC_4_SAVE_DIR}/ALL_CODES.csv',dtype={\"ICD10_CODE\": str})\n",
    "dfl = dfl.sort_values(['subject_id', 'hadm_id'])"
   ]
  },
  {
   "cell_type": "code",
   "execution_count": 27,
   "metadata": {},
   "outputs": [
    {
     "data": {
      "text/plain": [
       "(331793, 254431)"
      ]
     },
     "execution_count": 27,
     "metadata": {},
     "output_type": "execute_result"
    }
   ],
   "source": [
    "len(df['hadm_id'].unique()), len(dfl['hadm_id'].unique())"
   ]
  },
  {
   "cell_type": "markdown",
   "metadata": {},
   "source": [
    "## Consolidate labels with set of discharge summaries"
   ]
  },
  {
   "cell_type": "markdown",
   "metadata": {},
   "source": [
    "Looks like there were some HADM_ID's that didn't have discharge summaries, so they weren't included with our notes"
   ]
  },
  {
   "cell_type": "code",
   "execution_count": 28,
   "metadata": {
    "collapsed": true
   },
   "outputs": [],
   "source": [
    "#Let's filter out these HADM_ID's\n",
    "hadm_ids = set(df['hadm_id'])\n",
    "with open(f'{MIMIC_4_SAVE_DIR}/ALL_CODES.csv', 'r') as lf:\n",
    "    with open(f'{MIMIC_4_SAVE_DIR}/ALL_CODES_filtered.csv','w') as of:\n",
    "        w = csv.writer(of)\n",
    "        w.writerow(['subject_id', 'hadm_id', 'icd10_code', 'admittime', 'dischtime'])\n",
    "        r = csv.reader(lf)\n",
    "        #header\n",
    "        next(r)\n",
    "        for i,row in enumerate(r):\n",
    "            hadm_id = int(row[1])\n",
    "            #print(hadm_id)\n",
    "            #break\n",
    "            if hadm_id in hadm_ids:\n",
    "                w.writerow(row[:2] + [row[-1], '', ''])"
   ]
  },
  {
   "cell_type": "markdown",
   "metadata": {},
   "source": [
    "There are also some HADM_ID's that didn't have labels, so they weren't included with our notes.\n",
    "We need to remove the note."
   ]
  },
  {
   "cell_type": "code",
   "execution_count": 29,
   "metadata": {},
   "outputs": [],
   "source": [
    "dfl = pd.read_csv(f'{MIMIC_4_SAVE_DIR}/ALL_CODES_filtered.csv',dtype={\"icd10_code\": str}, index_col=None)"
   ]
  },
  {
   "cell_type": "code",
   "execution_count": 30,
   "metadata": {},
   "outputs": [
    {
     "data": {
      "text/plain": [
       "122304"
      ]
     },
     "execution_count": 30,
     "metadata": {},
     "output_type": "execute_result"
    }
   ],
   "source": [
    "len(dfl['hadm_id'].unique())"
   ]
  },
  {
   "cell_type": "code",
   "execution_count": 31,
   "metadata": {},
   "outputs": [],
   "source": [
    "#Let's filter out these HADM_ID in the note but not in the label\n",
    "hadm_lids = set(dfl['hadm_id'])\n",
    "with open(f'{MIMIC_4_SAVE_DIR}/disch_10_full.csv', 'r', encoding='utf-8') as lf:\n",
    "    with open(f'{MIMIC_4_SAVE_DIR}/disch_10_filtered.csv','w', encoding='utf-8') as of:\n",
    "        w = csv.writer(of)\n",
    "        w.writerow(['subject_id', 'hadm_id', 'charttime', 'text'])\n",
    "        r = csv.reader(lf)\n",
    "        #header\n",
    "        next(r)\n",
    "        for i,row in enumerate(r):\n",
    "            hadm_id = int(row[1])\n",
    "            #print(hadm_id)\n",
    "            #break\n",
    "            if hadm_id in hadm_lids:\n",
    "                w.writerow(row)"
   ]
  },
  {
   "cell_type": "code",
   "execution_count": 32,
   "metadata": {},
   "outputs": [
    {
     "data": {
      "text/html": [
       "<div>\n",
       "<style scoped>\n",
       "    .dataframe tbody tr th:only-of-type {\n",
       "        vertical-align: middle;\n",
       "    }\n",
       "\n",
       "    .dataframe tbody tr th {\n",
       "        vertical-align: top;\n",
       "    }\n",
       "\n",
       "    .dataframe thead th {\n",
       "        text-align: right;\n",
       "    }\n",
       "</style>\n",
       "<table border=\"1\" class=\"dataframe\">\n",
       "  <thead>\n",
       "    <tr style=\"text-align: right;\">\n",
       "      <th></th>\n",
       "      <th>subject_id</th>\n",
       "      <th>hadm_id</th>\n",
       "      <th>icd10_code</th>\n",
       "      <th>admittime</th>\n",
       "      <th>dischtime</th>\n",
       "    </tr>\n",
       "  </thead>\n",
       "  <tbody>\n",
       "    <tr>\n",
       "      <th>0</th>\n",
       "      <td>10000084</td>\n",
       "      <td>23052089</td>\n",
       "      <td>G3183</td>\n",
       "      <td>NaN</td>\n",
       "      <td>NaN</td>\n",
       "    </tr>\n",
       "    <tr>\n",
       "      <th>1</th>\n",
       "      <td>10000084</td>\n",
       "      <td>23052089</td>\n",
       "      <td>F0280</td>\n",
       "      <td>NaN</td>\n",
       "      <td>NaN</td>\n",
       "    </tr>\n",
       "    <tr>\n",
       "      <th>2</th>\n",
       "      <td>10000084</td>\n",
       "      <td>23052089</td>\n",
       "      <td>R441</td>\n",
       "      <td>NaN</td>\n",
       "      <td>NaN</td>\n",
       "    </tr>\n",
       "    <tr>\n",
       "      <th>3</th>\n",
       "      <td>10000084</td>\n",
       "      <td>23052089</td>\n",
       "      <td>R296</td>\n",
       "      <td>NaN</td>\n",
       "      <td>NaN</td>\n",
       "    </tr>\n",
       "    <tr>\n",
       "      <th>4</th>\n",
       "      <td>10000084</td>\n",
       "      <td>23052089</td>\n",
       "      <td>E785</td>\n",
       "      <td>NaN</td>\n",
       "      <td>NaN</td>\n",
       "    </tr>\n",
       "  </tbody>\n",
       "</table>\n",
       "</div>"
      ],
      "text/plain": [
       "   subject_id   hadm_id icd10_code  admittime  dischtime\n",
       "0    10000084  23052089      G3183        NaN        NaN\n",
       "1    10000084  23052089      F0280        NaN        NaN\n",
       "2    10000084  23052089       R441        NaN        NaN\n",
       "3    10000084  23052089       R296        NaN        NaN\n",
       "4    10000084  23052089       E785        NaN        NaN"
      ]
     },
     "execution_count": 32,
     "metadata": {},
     "output_type": "execute_result"
    }
   ],
   "source": [
    "n=5\n",
    "dfl.head(n)"
   ]
  },
  {
   "cell_type": "code",
   "execution_count": 33,
   "metadata": {
    "collapsed": true
   },
   "outputs": [],
   "source": [
    "#we still need to sort it by HADM_ID\n",
    "dfl = dfl.sort_values(['subject_id', 'hadm_id'])\n",
    "dfl.to_csv(f'{MIMIC_4_SAVE_DIR}/ALL_CODES_filtered.csv', index=False)"
   ]
  },
  {
   "cell_type": "markdown",
   "metadata": {},
   "source": [
    "## Append labels to notes in a single file"
   ]
  },
  {
   "cell_type": "code",
   "execution_count": 34,
   "metadata": {
    "collapsed": true
   },
   "outputs": [],
   "source": [
    "#Now let's append each instance with all of its codes\n",
    "#this is pretty non-trivial so let's use this script I wrote, which requires the notes to be written to file\n",
    "df = pd.read_csv(f'{MIMIC_4_SAVE_DIR}/disch_10_filtered.csv', index_col=None, encoding='utf-8', engine='python')\n",
    "df = df.sort_values(['subject_id', 'hadm_id'])\n",
    "sorted_file = f'{MIMIC_4_SAVE_DIR}/disch_10_filtered.csv'\n",
    "df.to_csv(sorted_file, index=False, encoding='utf-8')"
   ]
  },
  {
   "cell_type": "code",
   "execution_count": 35,
   "metadata": {},
   "outputs": [
    {
     "name": "stdout",
     "output_type": "stream",
     "text": [
      "122304\n",
      "122304\n"
     ]
    },
    {
     "data": {
      "text/plain": [
       "True"
      ]
     },
     "execution_count": 35,
     "metadata": {},
     "output_type": "execute_result"
    }
   ],
   "source": [
    "print(len(df['hadm_id'].unique()))\n",
    "print(len(dfl['hadm_id'].unique()))\n",
    "set(dfl['hadm_id'].unique()).issubset(set(df['hadm_id'].unique()))"
   ]
  },
  {
   "cell_type": "code",
   "execution_count": 36,
   "metadata": {},
   "outputs": [
    {
     "name": "stdout",
     "output_type": "stream",
     "text": [
      "65675\n",
      "65675\n"
     ]
    },
    {
     "data": {
      "text/plain": [
       "True"
      ]
     },
     "execution_count": 36,
     "metadata": {},
     "output_type": "execute_result"
    }
   ],
   "source": [
    "print(len(df['subject_id'].unique()))\n",
    "print(len(dfl['subject_id'].unique()))\n",
    "set(dfl['subject_id'].unique()).issubset(set(df['subject_id'].unique()))"
   ]
  },
  {
   "cell_type": "code",
   "execution_count": 37,
   "metadata": {},
   "outputs": [],
   "source": [
    "\"\"\"\n",
    "    Concatenate the labels with the notes data and split using the saved splits\n",
    "\"\"\"\n",
    "import csv\n",
    "from datetime import datetime\n",
    "import random\n",
    "\n",
    "\n",
    "import pandas as pd\n",
    "\n",
    "DATETIME_FORMAT = \"%Y-%m-%d %H:%M:%S\"\n",
    "\n",
    "def concat_data(labelsfile, notes_file):\n",
    "    \"\"\"\n",
    "        INPUTS:\n",
    "            labelsfile: sorted by hadm id, contains one label per line\n",
    "            notes_file: sorted by hadm id, contains one note per line\n",
    "    \"\"\"\n",
    "    with open(labelsfile, 'r', encoding='utf-8') as lf:\n",
    "        print(\"CONCATENATING\")\n",
    "        with open(notes_file, 'r', encoding='utf-8') as notesfile:\n",
    "            outfilename = f'{MIMIC_4_SAVE_DIR}/notes_labeled_icd10_filtered.csv'\n",
    "            with open(outfilename, 'w', encoding='utf-8') as outfile:\n",
    "                w = csv.writer(outfile)\n",
    "                w.writerow(['subject_id', 'hadm_id', 'text', 'labels'])\n",
    "\n",
    "                labels_gen = next_labels(lf)\n",
    "                notes_gen = next_notes(notesfile)\n",
    "\n",
    "                for i, (subj_id, text, hadm_id) in enumerate(notes_gen):\n",
    "                    if i % 10000 == 0:\n",
    "                        print(str(i) + \" done\")\n",
    "                    cur_subj, cur_labels, cur_hadm = next(labels_gen)\n",
    "\n",
    "                    if cur_hadm == hadm_id:\n",
    "                        w.writerow([subj_id, str(hadm_id), text, ';'.join(cur_labels)])\n",
    "                    else:\n",
    "                        print(\"couldn't find matching hadm_id. data is probably not sorted correctly\")\n",
    "                        break\n",
    "                    \n",
    "    return outfilename\n",
    "\n",
    "def next_labels(labelsfile):\n",
    "    \"\"\"\n",
    "        Generator for label sets from the label file\n",
    "    \"\"\"\n",
    "    labels_reader = csv.reader(labelsfile)\n",
    "    #header\n",
    "    next(labels_reader)\n",
    "\n",
    "    first_label_line = next(labels_reader)\n",
    "\n",
    "    cur_subj = int(first_label_line[0])\n",
    "    cur_hadm = int(first_label_line[1])\n",
    "    cur_labels = [first_label_line[2]]\n",
    "\n",
    "    for row in labels_reader:\n",
    "        subj_id = int(row[0])\n",
    "        hadm_id = int(row[1])\n",
    "        code = row[2]\n",
    "        #keep reading until you hit a new hadm id\n",
    "        if hadm_id != cur_hadm or subj_id != cur_subj:\n",
    "            yield cur_subj, cur_labels, cur_hadm\n",
    "            cur_labels = [code]\n",
    "            cur_subj = subj_id\n",
    "            cur_hadm = hadm_id\n",
    "        else:\n",
    "            #add to the labels and move on\n",
    "            cur_labels.append(code)\n",
    "    yield cur_subj, cur_labels, cur_hadm\n",
    "\n",
    "def next_notes(notesfile):\n",
    "    \"\"\"\n",
    "        Generator for notes from the notes file\n",
    "        This will also concatenate discharge summaries and their addenda, which have the same subject and hadm id\n",
    "    \"\"\"\n",
    "    nr = csv.reader(notesfile)\n",
    "    #header\n",
    "    next(nr)\n",
    "\n",
    "    first_note = next(nr)\n",
    "\n",
    "    cur_subj = int(first_note[0])\n",
    "    cur_hadm = int(first_note[1])\n",
    "    cur_text = first_note[3]\n",
    "    \n",
    "    for row in nr:\n",
    "        subj_id = int(row[0])\n",
    "        hadm_id = int(row[1])\n",
    "        text = row[3]\n",
    "        #keep reading until you hit a new hadm id\n",
    "        if hadm_id != cur_hadm or subj_id != cur_subj:\n",
    "            yield cur_subj, cur_text, cur_hadm\n",
    "            cur_text = text\n",
    "            cur_subj = subj_id\n",
    "            cur_hadm = hadm_id\n",
    "        else:\n",
    "            #concatenate to the discharge summary and move on\n",
    "            cur_text += \" \" + text\n",
    "    yield cur_subj, cur_text, cur_hadm\n"
   ]
  },
  {
   "cell_type": "code",
   "execution_count": 38,
   "metadata": {},
   "outputs": [
    {
     "data": {
      "text/html": [
       "<div>\n",
       "<style scoped>\n",
       "    .dataframe tbody tr th:only-of-type {\n",
       "        vertical-align: middle;\n",
       "    }\n",
       "\n",
       "    .dataframe tbody tr th {\n",
       "        vertical-align: top;\n",
       "    }\n",
       "\n",
       "    .dataframe thead th {\n",
       "        text-align: right;\n",
       "    }\n",
       "</style>\n",
       "<table border=\"1\" class=\"dataframe\">\n",
       "  <thead>\n",
       "    <tr style=\"text-align: right;\">\n",
       "      <th></th>\n",
       "      <th>subject_id</th>\n",
       "      <th>hadm_id</th>\n",
       "      <th>charttime</th>\n",
       "      <th>text</th>\n",
       "    </tr>\n",
       "  </thead>\n",
       "  <tbody>\n",
       "    <tr>\n",
       "      <th>0</th>\n",
       "      <td>10000084</td>\n",
       "      <td>23052089</td>\n",
       "      <td>2160-11-25 00:00:00</td>\n",
       "      <td>name ___ unit no ___ admission date ___ discha...</td>\n",
       "    </tr>\n",
       "    <tr>\n",
       "      <th>1</th>\n",
       "      <td>10000117</td>\n",
       "      <td>22927623</td>\n",
       "      <td>2181-11-15 00:00:00</td>\n",
       "      <td>name ___ unit no ___ admission date ___ discha...</td>\n",
       "    </tr>\n",
       "    <tr>\n",
       "      <th>2</th>\n",
       "      <td>10000117</td>\n",
       "      <td>27988844</td>\n",
       "      <td>2183-09-21 00:00:00</td>\n",
       "      <td>name ___ unit no ___ admission date ___ discha...</td>\n",
       "    </tr>\n",
       "    <tr>\n",
       "      <th>5</th>\n",
       "      <td>10000980</td>\n",
       "      <td>20897796</td>\n",
       "      <td>2193-08-17 00:00:00</td>\n",
       "      <td>name ___ unit no ___ admission date ___ discha...</td>\n",
       "    </tr>\n",
       "    <tr>\n",
       "      <th>3</th>\n",
       "      <td>10000980</td>\n",
       "      <td>25911675</td>\n",
       "      <td>2191-05-24 00:00:00</td>\n",
       "      <td>name ___ unit no ___ admission date ___ discha...</td>\n",
       "    </tr>\n",
       "    <tr>\n",
       "      <th>4</th>\n",
       "      <td>10000980</td>\n",
       "      <td>29659838</td>\n",
       "      <td>2191-07-19 00:00:00</td>\n",
       "      <td>name ___ unit no ___ admission date ___ discha...</td>\n",
       "    </tr>\n",
       "    <tr>\n",
       "      <th>6</th>\n",
       "      <td>10001401</td>\n",
       "      <td>21544441</td>\n",
       "      <td>2131-06-15 00:00:00</td>\n",
       "      <td>name ___ unit no ___ admission date ___ discha...</td>\n",
       "    </tr>\n",
       "    <tr>\n",
       "      <th>8</th>\n",
       "      <td>10001401</td>\n",
       "      <td>24818636</td>\n",
       "      <td>2131-08-04 00:00:00</td>\n",
       "      <td>name ___ unit no ___ admission date ___ discha...</td>\n",
       "    </tr>\n",
       "    <tr>\n",
       "      <th>7</th>\n",
       "      <td>10001401</td>\n",
       "      <td>26840593</td>\n",
       "      <td>2131-07-02 00:00:00</td>\n",
       "      <td>name ___ unit no ___ admission date ___ discha...</td>\n",
       "    </tr>\n",
       "    <tr>\n",
       "      <th>11</th>\n",
       "      <td>10001401</td>\n",
       "      <td>27012892</td>\n",
       "      <td>2133-07-13 00:00:00</td>\n",
       "      <td>name ___ unit no ___ admission date ___ discha...</td>\n",
       "    </tr>\n",
       "  </tbody>\n",
       "</table>\n",
       "</div>"
      ],
      "text/plain": [
       "    subject_id   hadm_id            charttime  \\\n",
       "0     10000084  23052089  2160-11-25 00:00:00   \n",
       "1     10000117  22927623  2181-11-15 00:00:00   \n",
       "2     10000117  27988844  2183-09-21 00:00:00   \n",
       "5     10000980  20897796  2193-08-17 00:00:00   \n",
       "3     10000980  25911675  2191-05-24 00:00:00   \n",
       "4     10000980  29659838  2191-07-19 00:00:00   \n",
       "6     10001401  21544441  2131-06-15 00:00:00   \n",
       "8     10001401  24818636  2131-08-04 00:00:00   \n",
       "7     10001401  26840593  2131-07-02 00:00:00   \n",
       "11    10001401  27012892  2133-07-13 00:00:00   \n",
       "\n",
       "                                                 text  \n",
       "0   name ___ unit no ___ admission date ___ discha...  \n",
       "1   name ___ unit no ___ admission date ___ discha...  \n",
       "2   name ___ unit no ___ admission date ___ discha...  \n",
       "5   name ___ unit no ___ admission date ___ discha...  \n",
       "3   name ___ unit no ___ admission date ___ discha...  \n",
       "4   name ___ unit no ___ admission date ___ discha...  \n",
       "6   name ___ unit no ___ admission date ___ discha...  \n",
       "8   name ___ unit no ___ admission date ___ discha...  \n",
       "7   name ___ unit no ___ admission date ___ discha...  \n",
       "11  name ___ unit no ___ admission date ___ discha...  "
      ]
     },
     "execution_count": 38,
     "metadata": {},
     "output_type": "execute_result"
    }
   ],
   "source": [
    "df.head(10)"
   ]
  },
  {
   "cell_type": "code",
   "execution_count": 39,
   "metadata": {},
   "outputs": [
    {
     "data": {
      "text/html": [
       "<div>\n",
       "<style scoped>\n",
       "    .dataframe tbody tr th:only-of-type {\n",
       "        vertical-align: middle;\n",
       "    }\n",
       "\n",
       "    .dataframe tbody tr th {\n",
       "        vertical-align: top;\n",
       "    }\n",
       "\n",
       "    .dataframe thead th {\n",
       "        text-align: right;\n",
       "    }\n",
       "</style>\n",
       "<table border=\"1\" class=\"dataframe\">\n",
       "  <thead>\n",
       "    <tr style=\"text-align: right;\">\n",
       "      <th></th>\n",
       "      <th>subject_id</th>\n",
       "      <th>hadm_id</th>\n",
       "      <th>icd10_code</th>\n",
       "      <th>admittime</th>\n",
       "      <th>dischtime</th>\n",
       "    </tr>\n",
       "  </thead>\n",
       "  <tbody>\n",
       "    <tr>\n",
       "      <th>0</th>\n",
       "      <td>10000084</td>\n",
       "      <td>23052089</td>\n",
       "      <td>G3183</td>\n",
       "      <td>NaN</td>\n",
       "      <td>NaN</td>\n",
       "    </tr>\n",
       "    <tr>\n",
       "      <th>1</th>\n",
       "      <td>10000084</td>\n",
       "      <td>23052089</td>\n",
       "      <td>F0280</td>\n",
       "      <td>NaN</td>\n",
       "      <td>NaN</td>\n",
       "    </tr>\n",
       "    <tr>\n",
       "      <th>2</th>\n",
       "      <td>10000084</td>\n",
       "      <td>23052089</td>\n",
       "      <td>R441</td>\n",
       "      <td>NaN</td>\n",
       "      <td>NaN</td>\n",
       "    </tr>\n",
       "    <tr>\n",
       "      <th>3</th>\n",
       "      <td>10000084</td>\n",
       "      <td>23052089</td>\n",
       "      <td>R296</td>\n",
       "      <td>NaN</td>\n",
       "      <td>NaN</td>\n",
       "    </tr>\n",
       "    <tr>\n",
       "      <th>4</th>\n",
       "      <td>10000084</td>\n",
       "      <td>23052089</td>\n",
       "      <td>E785</td>\n",
       "      <td>NaN</td>\n",
       "      <td>NaN</td>\n",
       "    </tr>\n",
       "    <tr>\n",
       "      <th>5</th>\n",
       "      <td>10000084</td>\n",
       "      <td>23052089</td>\n",
       "      <td>Z8546</td>\n",
       "      <td>NaN</td>\n",
       "      <td>NaN</td>\n",
       "    </tr>\n",
       "    <tr>\n",
       "      <th>6</th>\n",
       "      <td>10000117</td>\n",
       "      <td>22927623</td>\n",
       "      <td>R1310</td>\n",
       "      <td>NaN</td>\n",
       "      <td>NaN</td>\n",
       "    </tr>\n",
       "    <tr>\n",
       "      <th>7</th>\n",
       "      <td>10000117</td>\n",
       "      <td>22927623</td>\n",
       "      <td>R0989</td>\n",
       "      <td>NaN</td>\n",
       "      <td>NaN</td>\n",
       "    </tr>\n",
       "    <tr>\n",
       "      <th>8</th>\n",
       "      <td>10000117</td>\n",
       "      <td>22927623</td>\n",
       "      <td>K31819</td>\n",
       "      <td>NaN</td>\n",
       "      <td>NaN</td>\n",
       "    </tr>\n",
       "    <tr>\n",
       "      <th>9</th>\n",
       "      <td>10000117</td>\n",
       "      <td>22927623</td>\n",
       "      <td>K219</td>\n",
       "      <td>NaN</td>\n",
       "      <td>NaN</td>\n",
       "    </tr>\n",
       "  </tbody>\n",
       "</table>\n",
       "</div>"
      ],
      "text/plain": [
       "   subject_id   hadm_id icd10_code  admittime  dischtime\n",
       "0    10000084  23052089      G3183        NaN        NaN\n",
       "1    10000084  23052089      F0280        NaN        NaN\n",
       "2    10000084  23052089       R441        NaN        NaN\n",
       "3    10000084  23052089       R296        NaN        NaN\n",
       "4    10000084  23052089       E785        NaN        NaN\n",
       "5    10000084  23052089      Z8546        NaN        NaN\n",
       "6    10000117  22927623      R1310        NaN        NaN\n",
       "7    10000117  22927623      R0989        NaN        NaN\n",
       "8    10000117  22927623     K31819        NaN        NaN\n",
       "9    10000117  22927623       K219        NaN        NaN"
      ]
     },
     "execution_count": 39,
     "metadata": {},
     "output_type": "execute_result"
    }
   ],
   "source": [
    "dfl.head(10)"
   ]
  },
  {
   "cell_type": "code",
   "execution_count": 40,
   "metadata": {},
   "outputs": [
    {
     "name": "stdout",
     "output_type": "stream",
     "text": [
      "CONCATENATING\n",
      "0 done\n",
      "10000 done\n",
      "20000 done\n",
      "30000 done\n",
      "40000 done\n",
      "50000 done\n",
      "60000 done\n",
      "70000 done\n",
      "80000 done\n",
      "90000 done\n",
      "100000 done\n",
      "110000 done\n",
      "120000 done\n"
     ]
    }
   ],
   "source": [
    "#For this cell, I do not recommend to run this cell directly.\n",
    "#You can run through the file data_mimic_IV_concate_note_label.py\n",
    "#Remember to change the directories there: MIMIC_4_SAVE_DIR, labelsfile,notes_file, output_note_labeled_file\n",
    "labeled = concat_data(f'{MIMIC_4_SAVE_DIR}/ALL_CODES_filtered.csv', f'{MIMIC_4_SAVE_DIR}/disch_10_filtered.csv')"
   ]
  },
  {
   "cell_type": "markdown",
   "metadata": {},
   "source": [
    "Let's sanity check the combined data we just made. Do we have all hadm id's accounted for, and the same vocab stats?"
   ]
  },
  {
   "cell_type": "code",
   "execution_count": 41,
   "metadata": {
    "collapsed": true
   },
   "outputs": [],
   "source": [
    "dfnl = pd.read_csv(f'{MIMIC_4_SAVE_DIR}/notes_labeled_icd10_filtered.csv', encoding='utf-8', engine='python')\n",
    "#Tokens and types\n",
    "types = set()\n",
    "num_tok = 0\n",
    "for row in dfnl.itertuples():\n",
    "    for w in row[3].split():\n",
    "        types.add(w)\n",
    "        num_tok += 1"
   ]
  },
  {
   "cell_type": "code",
   "execution_count": 42,
   "metadata": {},
   "outputs": [
    {
     "name": "stdout",
     "output_type": "stream",
     "text": [
      "num types 188771 num tokens 203228968\n"
     ]
    }
   ],
   "source": [
    "print(\"num types\", len(types), \"num tokens\", num_tok)"
   ]
  },
  {
   "cell_type": "code",
   "execution_count": 43,
   "metadata": {},
   "outputs": [
    {
     "data": {
      "text/plain": [
       "122304"
      ]
     },
     "execution_count": 43,
     "metadata": {},
     "output_type": "execute_result"
    }
   ],
   "source": [
    "len(dfnl['hadm_id'].unique())"
   ]
  },
  {
   "cell_type": "code",
   "execution_count": 44,
   "metadata": {},
   "outputs": [
    {
     "data": {
      "text/plain": [
       "122304"
      ]
     },
     "execution_count": 44,
     "metadata": {},
     "output_type": "execute_result"
    }
   ],
   "source": [
    "len(dfnl)"
   ]
  },
  {
   "cell_type": "code",
   "execution_count": 45,
   "metadata": {},
   "outputs": [
    {
     "data": {
      "text/plain": [
       "65675"
      ]
     },
     "execution_count": 45,
     "metadata": {},
     "output_type": "execute_result"
    }
   ],
   "source": [
    "len(dfnl['subject_id'].unique())"
   ]
  },
  {
   "cell_type": "markdown",
   "metadata": {},
   "source": [
    "## Create train/dev/test splits"
   ]
  },
  {
   "cell_type": "code",
   "execution_count": 46,
   "metadata": {},
   "outputs": [],
   "source": [
    "def split_data(labeledfile, base_name):\n",
    "    print(\"SPLITTING\")\n",
    "    #create and write headers for train, dev, test\n",
    "    train_name = '%s_train_split.csv' % (base_name)\n",
    "    dev_name = '%s_dev_split.csv' % (base_name)\n",
    "    test_name = '%s_test_split.csv' % (base_name)\n",
    "    train_file = open(train_name, 'w', encoding='utf-8')\n",
    "    dev_file = open(dev_name, 'w', encoding='utf-8')\n",
    "    test_file = open(test_name, 'w', encoding='utf-8')\n",
    "    train_file.write(','.join(['subject_id', 'hadm_id', 'text', 'labels']) + \"\\n\")\n",
    "    dev_file.write(','.join(['subject_id', 'hadm_id', 'text', 'labels']) + \"\\n\")\n",
    "    test_file.write(','.join(['subject_id', 'hadm_id', 'text', 'labels']) + \"\\n\")\n",
    "\n",
    "    hadm_ids = {}\n",
    "\n",
    "    #read in train, dev, test splits\n",
    "    for splt in ['train', 'dev', 'test']:\n",
    "        hadm_ids[splt] = set()\n",
    "        with open('%s/%s_full_hadm_ids.csv' % (MIMIC_4_SAVE_DIR, splt), 'r') as f:\n",
    "            for line in f:\n",
    "                hadm_ids[splt].add(line.rstrip())\n",
    "\n",
    "    with open(labeledfile, 'r', encoding='utf-8') as lf:\n",
    "        reader = csv.reader(lf)\n",
    "        next(reader)\n",
    "        i = 0\n",
    "        cur_hadm = 0\n",
    "        for row in reader:\n",
    "            #filter text, write to file according to train/dev/test split\n",
    "            if i % 10000 == 0:\n",
    "                print(str(i) + \" read\")\n",
    "\n",
    "            hadm_id = row[1]\n",
    "\n",
    "            if hadm_id in hadm_ids['train']:\n",
    "                train_file.write(','.join(row) + \"\\n\")\n",
    "            elif hadm_id in hadm_ids['dev']:\n",
    "                dev_file.write(','.join(row) + \"\\n\")\n",
    "            elif hadm_id in hadm_ids['test']:\n",
    "                test_file.write(','.join(row) + \"\\n\")\n",
    "            else:\n",
    "                print(\"Error\")\n",
    "\n",
    "            i += 1\n",
    "\n",
    "        train_file.close()\n",
    "        dev_file.close()\n",
    "        test_file.close()\n",
    "    return train_name, dev_name, test_name"
   ]
  },
  {
   "cell_type": "code",
   "execution_count": 47,
   "metadata": {
    "scrolled": true
   },
   "outputs": [
    {
     "name": "stdout",
     "output_type": "stream",
     "text": [
      "SPLITTING\n",
      "0 read\n",
      "Error\n",
      "Error\n",
      "10000 read\n",
      "20000 read\n",
      "30000 read\n",
      "40000 read\n",
      "Error\n",
      "50000 read\n",
      "Error\n",
      "60000 read\n",
      "Error\n",
      "70000 read\n",
      "80000 read\n",
      "Error\n",
      "90000 read\n",
      "100000 read\n",
      "Error\n",
      "110000 read\n",
      "120000 read\n"
     ]
    }
   ],
   "source": [
    "fname = f'{MIMIC_4_SAVE_DIR}/notes_labeled_icd10_filtered.csv'\n",
    "base_name = \"%s/disch\" % MIMIC_4_SAVE_DIR #for output\n",
    "tr, dv, te = split_data(fname, base_name=base_name)"
   ]
  },
  {
   "cell_type": "code",
   "execution_count": 6,
   "metadata": {},
   "outputs": [],
   "source": [
    "train_df=pd.read_csv('%s/disch_train_split.csv' % (MIMIC_4_SAVE_DIR), encoding='utf-8',engine='python',dtype={\"icd_code\": str})\n",
    "dev_df=pd.read_csv('%s/disch_dev_split.csv' % (MIMIC_4_SAVE_DIR), encoding='utf-8',engine='python',dtype={\"icd_code\": str})\n",
    "test_df=pd.read_csv('%s/disch_test_split.csv' % (MIMIC_4_SAVE_DIR), encoding='utf-8',engine='python',dtype={\"icd_code\": str})\n",
    "# train_df=pd.read_csv(tr, encoding='utf-8',engine='python')\n",
    "# dev_df=pd.read_csv(dv, encoding='utf-8',engine='python')\n",
    "# test_df=pd.read_csv(te, encoding='utf-8',engine='python')"
   ]
  },
  {
   "cell_type": "code",
   "execution_count": 9,
   "metadata": {},
   "outputs": [
    {
     "name": "stdout",
     "output_type": "stream",
     "text": [
      "122304\n",
      "110431\n",
      "4016\n",
      "7850\n"
     ]
    }
   ],
   "source": [
    "print(len(dfnl['subject_id']))\n",
    "print(len(train_df['subject_id']))\n",
    "print(len(dev_df['subject_id']))\n",
    "print(len(test_df['subject_id']))"
   ]
  },
  {
   "cell_type": "code",
   "execution_count": 10,
   "metadata": {},
   "outputs": [
    {
     "name": "stdout",
     "output_type": "stream",
     "text": [
      "65675\n",
      "59105\n",
      "2188\n",
      "4379\n"
     ]
    }
   ],
   "source": [
    "print(len(dfnl['subject_id'].unique()))\n",
    "print(len(train_df['subject_id'].unique()))\n",
    "print(len(dev_df['subject_id'].unique()))\n",
    "print(len(test_df['subject_id'].unique()))"
   ]
  },
  {
   "cell_type": "code",
   "execution_count": 11,
   "metadata": {},
   "outputs": [
    {
     "name": "stdout",
     "output_type": "stream",
     "text": [
      "65675\n",
      "59105\n",
      "2188\n",
      "4379\n"
     ]
    }
   ],
   "source": [
    "print(len(dfnl['subject_id'].unique()))\n",
    "print(len(train_df['subject_id'].unique()))\n",
    "print(len(dev_df['subject_id'].unique()))\n",
    "print(len(test_df['subject_id'].unique()))"
   ]
  },
  {
   "cell_type": "markdown",
   "metadata": {},
   "source": [
    "## Build vocabulary from training data"
   ]
  },
  {
   "cell_type": "code",
   "execution_count": 12,
   "metadata": {},
   "outputs": [],
   "source": [
    "import csv\n",
    "import numpy as np\n",
    "import operator\n",
    "\n",
    "from collections import defaultdict\n",
    "from scipy.sparse import csr_matrix\n",
    "\n",
    "def build_vocab(vocab_min, infile, vocab_filename):\n",
    "    \"\"\"\n",
    "        INPUTS:\n",
    "            vocab_min: how many documents a word must appear in to be kept\n",
    "            infile: (training) data file to build vocabulary from\n",
    "            vocab_filename: name for the file to output\n",
    "    \"\"\"\n",
    "    with open(infile, 'r', encoding='utf-8') as csvfile:\n",
    "        reader = csv.reader(csvfile)\n",
    "        #header\n",
    "        next(reader)\n",
    "\n",
    "        #0. read in data\n",
    "        print(\"reading in data...\")\n",
    "        #holds number of terms in each document\n",
    "        note_numwords = []\n",
    "        #indices where notes start\n",
    "        note_inds = [0]\n",
    "        #indices of discovered words\n",
    "        indices = []\n",
    "        #holds a bunch of ones\n",
    "        data = []\n",
    "        #keep track of discovered words\n",
    "        vocab = {}\n",
    "        #build lookup table for terms\n",
    "        num2term = {}\n",
    "        #preallocate array to hold number of notes each term appears in\n",
    "        note_occur = np.zeros(400000, dtype=int)\n",
    "        i = 0\n",
    "        for row in reader:\n",
    "            text = row[2]\n",
    "            numwords = 0\n",
    "            for term in text.split():\n",
    "                #put term in vocab if it's not there. else, get the index\n",
    "                index = vocab.setdefault(term, len(vocab))\n",
    "                indices.append(index)\n",
    "                num2term[index] = term\n",
    "                data.append(1)\n",
    "                numwords += 1\n",
    "            #record where the next note starts\n",
    "            note_inds.append(len(indices))\n",
    "            indset = set(indices[note_inds[-2]:note_inds[-1]])\n",
    "            #go thru all the word indices you just added, and add to the note occurrence count for each of them\n",
    "            for ind in indset:\n",
    "                note_occur[ind] += 1\n",
    "            note_numwords.append(numwords)\n",
    "            i += 1\n",
    "        #clip trailing zeros\n",
    "        note_occur = note_occur[note_occur>0]\n",
    "\n",
    "        #turn vocab into a list so indexing doesn't get fd up when we drop rows\n",
    "        vocab_list = np.array([word for word,ind in sorted(vocab.items(), key=operator.itemgetter(1))])\n",
    "\n",
    "        #1. create sparse document matrix\n",
    "        C = csr_matrix((data, indices, note_inds), dtype=int).transpose()\n",
    "        #also need the numwords array to be a sparse matrix\n",
    "        note_numwords = csr_matrix(1. / np.array(note_numwords))\n",
    "        \n",
    "        #2. remove rows with less than 3 total occurrences\n",
    "        print(\"removing rare terms\")\n",
    "        #inds holds indices of rows corresponding to terms that occur in < 3 documents\n",
    "        inds = np.nonzero(note_occur >= vocab_min)[0]\n",
    "        print(str(len(inds)) + \" terms qualify out of \" + str(C.shape[0]) + \" total\")\n",
    "        #drop those rows\n",
    "        C = C[inds,:]\n",
    "        note_occur = note_occur[inds]\n",
    "        vocab_list = vocab_list[inds]\n",
    "\n",
    "        print(\"writing output\")\n",
    "        with open(vocab_filename, 'w', encoding='utf-8') as vocab_file:\n",
    "            for word in vocab_list:\n",
    "                vocab_file.write(word + \"\\n\")"
   ]
  },
  {
   "cell_type": "code",
   "execution_count": 13,
   "metadata": {
    "scrolled": true
   },
   "outputs": [
    {
     "name": "stdout",
     "output_type": "stream",
     "text": [
      "reading in data...\n",
      "removing rare terms\n",
      "69971 terms qualify out of 179120 total\n",
      "writing output\n"
     ]
    }
   ],
   "source": [
    "vocab_min = 3\n",
    "vname = '%s/vocab.csv' % MIMIC_4_SAVE_DIR\n",
    "build_vocab(vocab_min, '%s/disch_train_split.csv' % (MIMIC_4_SAVE_DIR), vname)"
   ]
  },
  {
   "cell_type": "markdown",
   "metadata": {
    "collapsed": true
   },
   "source": [
    "## Sort each data split by length for batching"
   ]
  },
  {
   "cell_type": "code",
   "execution_count": 14,
   "metadata": {
    "collapsed": true
   },
   "outputs": [],
   "source": [
    "for splt in ['train', 'dev', 'test']:\n",
    "    filename = '%s/disch_%s_split.csv' % (MIMIC_4_SAVE_DIR, splt)\n",
    "    df = pd.read_csv(filename, encoding='utf-8', engine='python',dtype={\"icd_code\": str})\n",
    "    df['length'] = df.apply(lambda row: len(str(row['text']).split()), axis=1)\n",
    "    df = df.sort_values(['length'])\n",
    "    df.to_csv('%s/%s_full.csv' % (MIMIC_4_SAVE_DIR, splt), index=False, encoding='utf-8')"
   ]
  },
  {
   "cell_type": "markdown",
   "metadata": {},
   "source": [
    "## Filter each split to the top 50 diagnosis/procedure codes"
   ]
  },
  {
   "cell_type": "code",
   "execution_count": 15,
   "metadata": {
    "collapsed": true
   },
   "outputs": [],
   "source": [
    "Y = 50"
   ]
  },
  {
   "cell_type": "code",
   "execution_count": null,
   "metadata": {
    "collapsed": true
   },
   "outputs": [],
   "source": [
    "# #first calculate the top k\n",
    "# counts = Counter()\n",
    "# dfnl = pd.read_csv('%s/notes_labeled.csv' % MIMIC_3_DIR)\n",
    "# for row in dfnl.itertuples():\n",
    "#     for label in str(row[4]).split(';'):\n",
    "#         counts[label] += 1\n",
    "# codes_50 = sorted(counts.items(), key=operator.itemgetter(1), reverse=True)\n",
    "# codes_50 = [code[0] for code in codes_50[:Y]]"
   ]
  },
  {
   "cell_type": "code",
   "execution_count": 16,
   "metadata": {
    "scrolled": true
   },
   "outputs": [
    {
     "name": "stdout",
     "output_type": "stream",
     "text": [
      "['J189', 'I129', 'G4700', 'M109', 'I130', 'Z955', 'G4733', 'I4891', 'E1122', 'E039', 'F329', 'D62', 'J45909', 'J449', 'N189', 'I252', 'F17210', 'Y92230', 'N183', 'I480', 'E871', 'E119', 'Z23', 'E669', 'E785', 'N179', 'Z7902', 'G8929', 'Z66', 'N400', '02HV33Z', 'Z951', 'K219', 'I10', 'E872', 'I2510', 'D649', 'Z87891', 'Z8673', 'F419', 'I110', 'K5900', 'N390', 'D696', 'Z86718', 'Y92239', 'Y929', 'J9601', 'Z794', 'Z7901']\n"
     ]
    }
   ],
   "source": [
    "with open(f\"{MIMIC_4_SAVE_DIR}/top50_icd10_code_list.txt\", \"r\") as fd:\n",
    "    codes_50=[x.strip() for x in fd.readlines()]\n",
    "print(codes_50)\n",
    "\n",
    "with open('%s/TOP_%s_CODES.csv' % (MIMIC_4_SAVE_DIR, str(Y)), 'w') as of:\n",
    "    w = csv.writer(of)\n",
    "    for code in codes_50:\n",
    "        w.writerow([code])"
   ]
  },
  {
   "cell_type": "code",
   "execution_count": 18,
   "metadata": {},
   "outputs": [
    {
     "name": "stdout",
     "output_type": "stream",
     "text": [
      "train\n",
      "dev\n",
      "test\n"
     ]
    }
   ],
   "source": [
    "for splt in ['train', 'dev', 'test']:\n",
    "    print(splt)\n",
    "    hadm_ids = set()\n",
    "    with open('%s/%s_50_hadm_ids.csv' % (MIMIC_4_SAVE_DIR, splt), 'r') as f:\n",
    "        for line in f:\n",
    "            hadm_ids.add(line.rstrip())\n",
    "    with open('%s/notes_labeled_icd10_filtered.csv' % MIMIC_4_SAVE_DIR, 'r', encoding='utf-8') as f:\n",
    "        with open('%s/%s_%s.csv' % (MIMIC_4_SAVE_DIR, splt, str(Y)), 'w', encoding='utf-8') as of:\n",
    "            r = csv.reader(f)\n",
    "            w = csv.writer(of)\n",
    "            #header\n",
    "            w.writerow(next(r))\n",
    "            i = 0\n",
    "            for row in r:\n",
    "                hadm_id = row[1]\n",
    "                if hadm_id not in hadm_ids:\n",
    "                    continue\n",
    "                codes = set(str(row[3]).split(';'))\n",
    "                filtered_codes = codes.intersection(set(codes_50))\n",
    "                if len(filtered_codes) > 0:\n",
    "                    w.writerow(row[:3] + [';'.join(filtered_codes)])\n",
    "                    i += 1"
   ]
  },
  {
   "cell_type": "code",
   "execution_count": 54,
   "metadata": {
    "collapsed": true
   },
   "outputs": [],
   "source": [
    "Y=50\n",
    "for splt in ['train', 'dev', 'test']:\n",
    "    filename = '%s/%s_%s.csv' % (MIMIC_4_SAVE_DIR, splt, str(Y))\n",
    "    df = pd.read_csv(filename, encoding='utf-8', engine='python')\n",
    "    df['length'] = df.apply(lambda row: len(str(row['text']).split()), axis=1)\n",
    "    df = df.sort_values(['length'])\n",
    "    df.to_csv('%s/%s_%s.csv' % (MIMIC_4_SAVE_DIR, splt, str(Y)), index=False, encoding='utf-8')"
   ]
  }
 ],
 "metadata": {
  "kernelspec": {
   "display_name": "icdproj",
   "language": "python",
   "name": "python3"
  },
  "language_info": {
   "codemirror_mode": {
    "name": "ipython",
    "version": 3
   },
   "file_extension": ".py",
   "mimetype": "text/x-python",
   "name": "python",
   "nbconvert_exporter": "python",
   "pygments_lexer": "ipython3",
   "version": "3.9.23"
  }
 },
 "nbformat": 4,
 "nbformat_minor": 2
}
